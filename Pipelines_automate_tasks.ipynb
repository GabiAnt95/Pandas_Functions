{
 "cells": [
  {
   "cell_type": "markdown",
   "id": "c894a52d-c539-470e-b23c-a5fbd36cb442",
   "metadata": {},
   "source": [
    "# The porpouse of this notebook is to serve as a way to solve problems.\n",
    "###### "
   ]
  },
  {
   "cell_type": "markdown",
   "id": "fc234976-70c4-4dd8-a5d2-ff575f13d23e",
   "metadata": {},
   "source": [
    "GabinoAntOrt95@gmail.com \n",
    "\n",
    "https://github.com/GabiAnt95"
   ]
  },
  {
   "cell_type": "markdown",
   "id": "40969f14-e879-4d1f-a244-cd9239a1e9a3",
   "metadata": {},
   "source": [
    "# -------------------------------------------------------------------------------------------------------"
   ]
  },
  {
   "cell_type": "markdown",
   "id": "8ade8b5d-6b27-44c0-8116-2173de836861",
   "metadata": {},
   "source": [
    "# Split DataFrame Depending on Unique Values of a Given Column\n",
    "\n",
    "### For Example, we have a DataFrame with 2 columns, countries and a some funny cities of each\n",
    "### Sometimes could be useful splitting this DataFrames in several DataFrames, for example, getting one DataFrame for each unque value of the column \"Country\"\n",
    "### And in order to be meticulous and as a \"good-practise\" the name of each DataFrame should be the own value\n",
    "\n",
    "## Let´s see an example of INPUT:\n",
    "  **Note that we have 3 fields in the column country which are None**\n",
    "\n",
    "######"
   ]
  },
  {
   "cell_type": "code",
   "execution_count": 37,
   "id": "bcc7262e-e2a8-428f-bb9b-32fac5309fce",
   "metadata": {},
   "outputs": [
    {
     "data": {
      "text/html": [
       "<div>\n",
       "<style scoped>\n",
       "    .dataframe tbody tr th:only-of-type {\n",
       "        vertical-align: middle;\n",
       "    }\n",
       "\n",
       "    .dataframe tbody tr th {\n",
       "        vertical-align: top;\n",
       "    }\n",
       "\n",
       "    .dataframe thead th {\n",
       "        text-align: right;\n",
       "    }\n",
       "</style>\n",
       "<table border=\"1\" class=\"dataframe\">\n",
       "  <thead>\n",
       "    <tr style=\"text-align: right;\">\n",
       "      <th></th>\n",
       "      <th>country</th>\n",
       "      <th>funny_cities</th>\n",
       "    </tr>\n",
       "  </thead>\n",
       "  <tbody>\n",
       "    <tr>\n",
       "      <th>0</th>\n",
       "      <td>Spain</td>\n",
       "      <td>Madrid</td>\n",
       "    </tr>\n",
       "    <tr>\n",
       "      <th>1</th>\n",
       "      <td>Spain</td>\n",
       "      <td>Langreo</td>\n",
       "    </tr>\n",
       "    <tr>\n",
       "      <th>2</th>\n",
       "      <td>Spain</td>\n",
       "      <td>Tenerife</td>\n",
       "    </tr>\n",
       "    <tr>\n",
       "      <th>3</th>\n",
       "      <td>Brazil</td>\n",
       "      <td>Rio</td>\n",
       "    </tr>\n",
       "    <tr>\n",
       "      <th>4</th>\n",
       "      <td>Brazil</td>\n",
       "      <td>Sao Paulo</td>\n",
       "    </tr>\n",
       "    <tr>\n",
       "      <th>5</th>\n",
       "      <td>France</td>\n",
       "      <td>Lyon</td>\n",
       "    </tr>\n",
       "    <tr>\n",
       "      <th>6</th>\n",
       "      <td>Albania</td>\n",
       "      <td>Triana</td>\n",
       "    </tr>\n",
       "    <tr>\n",
       "      <th>7</th>\n",
       "      <td>Albania</td>\n",
       "      <td>Tropoje</td>\n",
       "    </tr>\n",
       "    <tr>\n",
       "      <th>8</th>\n",
       "      <td>Thailandia</td>\n",
       "      <td>Pattaya</td>\n",
       "    </tr>\n",
       "    <tr>\n",
       "      <th>9</th>\n",
       "      <td>Thailandia</td>\n",
       "      <td>Krabi</td>\n",
       "    </tr>\n",
       "    <tr>\n",
       "      <th>10</th>\n",
       "      <td>None</td>\n",
       "      <td>Invented_City</td>\n",
       "    </tr>\n",
       "    <tr>\n",
       "      <th>11</th>\n",
       "      <td>None</td>\n",
       "      <td>Paris_not_funny</td>\n",
       "    </tr>\n",
       "    <tr>\n",
       "      <th>12</th>\n",
       "      <td>None</td>\n",
       "      <td>klk mnin</td>\n",
       "    </tr>\n",
       "  </tbody>\n",
       "</table>\n",
       "</div>"
      ],
      "text/plain": [
       "       country     funny_cities\n",
       "0        Spain           Madrid\n",
       "1        Spain          Langreo\n",
       "2        Spain         Tenerife\n",
       "3       Brazil              Rio\n",
       "4       Brazil        Sao Paulo\n",
       "5       France             Lyon\n",
       "6      Albania           Triana\n",
       "7      Albania          Tropoje\n",
       "8   Thailandia          Pattaya\n",
       "9   Thailandia            Krabi\n",
       "10        None    Invented_City\n",
       "11        None  Paris_not_funny\n",
       "12        None         klk mnin"
      ]
     },
     "execution_count": 37,
     "metadata": {},
     "output_type": "execute_result"
    }
   ],
   "source": [
    "import pandas as pd\n",
    "\n",
    "have_fun = pd.DataFrame()\n",
    "\n",
    "have_fun['country'] = ['Spain', 'Spain', 'Spain', 'Brazil', 'Brazil', 'France', 'Albania', 'Albania', 'Thailandia', 'Thailandia', None, None, None]\n",
    "have_fun['funny_cities'] = ['Madrid', 'Langreo', 'Tenerife', 'Rio', 'Sao Paulo', 'Lyon', 'Triana', 'Tropoje', 'Pattaya', 'Krabi', 'Invented_City', 'Paris_not_funny', 'klk mnin']\n",
    "\n",
    "have_fun"
   ]
  },
  {
   "cell_type": "markdown",
   "id": "17b0206c-6b19-4afd-8c79-2b493d80283b",
   "metadata": {},
   "source": [
    "###\n",
    "\n",
    "#### The next pipeline/framework/process/method... as you wanna call it cannot be encapsullled in a function due to its own way to work.\n",
    "#### It works with the function locals, used to convert a given string into the name of a function\n",
    "\n",
    "# For a given df and column:\n",
    "###### \n",
    "    - 1) Function locals()[x] = any_value creates a variable with the given name inside [x]\n",
    "    - 2) Function names in Python:\n",
    "                                 - Cannot contain spaces\n",
    "                                 - Cannot contain not alphanumeric characters\n",
    "                                 - Cannot begin with a number (So, an 'A_' will be added at the beginning of the unique velue if it begins with a numerica char)\n",
    "                                 - Cannot be empty (Reason why we do the \"fillna\" for the given column)\n",
    "    - 3) If the column contains 10 diferent unique values we will create 10* diferent DataFranmes\n",
    "                                * If there are Na values, an extra-df will be created with the values which had Na in the given column *\n",
    "    - 4) The name of each DataFrame will be printed in order to help the user to see the name of the variables which he has created\n",
    "    - 5) Also, they are saved in a list called \"created_dataframes\"\n",
    "                          \n"
   ]
  },
  {
   "cell_type": "markdown",
   "id": "10590766-3238-4201-8a17-d715bb271731",
   "metadata": {},
   "source": [
    "# Following you will find the generic code:"
   ]
  },
  {
   "cell_type": "code",
   "execution_count": null,
   "id": "af55fdcb-1359-4c9d-923e-fa827958c961",
   "metadata": {},
   "outputs": [],
   "source": [
    "\n",
    "\n",
    "df[column] = df[column].fillna('EMPTY')\n",
    "\n",
    "for value in df[column].unique():\n",
    "    if value[0].isnumeric():\n",
    "        value = 'A_' + value\n",
    "    locals()[\"\".join([e for e in value.strip().replace(' ', '_') if e.isalnum()])] = df[df[column] == value].reset_index(drop = True)\n",
    "    print(\"\".join([e for e in value.strip().replace(' ', '_') if e.isalnum()]))\n",
    "    \n",
    "    "
   ]
  },
  {
   "cell_type": "markdown",
   "id": "36fe28ad-12e8-4a07-8e8d-2751c825b421",
   "metadata": {},
   "source": [
    "# Finally, the Generic Code Applied to the Df of the Example\n",
    "### We receive one DataFrame for each country:\n",
    "######"
   ]
  },
  {
   "cell_type": "code",
   "execution_count": 48,
   "id": "2f0ce1d7-3dad-4ade-8a29-cbf678d65932",
   "metadata": {},
   "outputs": [
    {
     "name": "stdout",
     "output_type": "stream",
     "text": [
      "The Following DataFrames has been created (Also, you have them in the list 'created_dataframes'): \n",
      "\n",
      "      Spain\n",
      "      Brazil\n",
      "      France\n",
      "      Albania\n",
      "      Thailandia\n",
      "      EMPTY\n",
      "\n",
      "\n"
     ]
    }
   ],
   "source": [
    "have_fun['country'] = have_fun['country'].fillna('EMPTY')\n",
    "\n",
    "created_dataframes = []\n",
    "print(\"The Following DataFrames has been created (Also, you have them in the list 'created_dataframes'): \\n\")\n",
    "for value in have_fun['country'].unique():\n",
    "    if value[0].isnumeric():\n",
    "        value = 'A_' + value\n",
    "    locals()[\"\".join([e for e in value.strip().replace(' ', '_') if e.isalnum()])] = have_fun[have_fun['country'] == value].reset_index(drop = True)\n",
    "    created_dataframes.append(\"\".join([e for e in value.strip().replace(' ', '_') if e.isalnum()]))\n",
    "    print(\"      \" + \"\".join([e for e in value.strip().replace(' ', '_') if e.isalnum()]))\n",
    "    \n",
    "print('\\n')"
   ]
  },
  {
   "cell_type": "code",
   "execution_count": 46,
   "id": "1dcbd6c2-2317-47a8-9a71-319dacf096c6",
   "metadata": {},
   "outputs": [
    {
     "data": {
      "text/html": [
       "<div>\n",
       "<style scoped>\n",
       "    .dataframe tbody tr th:only-of-type {\n",
       "        vertical-align: middle;\n",
       "    }\n",
       "\n",
       "    .dataframe tbody tr th {\n",
       "        vertical-align: top;\n",
       "    }\n",
       "\n",
       "    .dataframe thead th {\n",
       "        text-align: right;\n",
       "    }\n",
       "</style>\n",
       "<table border=\"1\" class=\"dataframe\">\n",
       "  <thead>\n",
       "    <tr style=\"text-align: right;\">\n",
       "      <th></th>\n",
       "      <th>country</th>\n",
       "      <th>funny_cities</th>\n",
       "    </tr>\n",
       "  </thead>\n",
       "  <tbody>\n",
       "    <tr>\n",
       "      <th>0</th>\n",
       "      <td>Spain</td>\n",
       "      <td>Madrid</td>\n",
       "    </tr>\n",
       "    <tr>\n",
       "      <th>1</th>\n",
       "      <td>Spain</td>\n",
       "      <td>Langreo</td>\n",
       "    </tr>\n",
       "    <tr>\n",
       "      <th>2</th>\n",
       "      <td>Spain</td>\n",
       "      <td>Tenerife</td>\n",
       "    </tr>\n",
       "  </tbody>\n",
       "</table>\n",
       "</div>"
      ],
      "text/plain": [
       "  country funny_cities\n",
       "0   Spain       Madrid\n",
       "1   Spain      Langreo\n",
       "2   Spain     Tenerife"
      ]
     },
     "execution_count": 46,
     "metadata": {},
     "output_type": "execute_result"
    }
   ],
   "source": [
    "# For Example: \n",
    "Spain"
   ]
  },
  {
   "cell_type": "markdown",
   "id": "19f315cf-550e-4e43-9e3f-26ce00afcd67",
   "metadata": {},
   "source": [
    "# -------------------------------------------------------------------------------------------------------"
   ]
  },
  {
   "cell_type": "code",
   "execution_count": null,
   "id": "d9a9015e-eb58-48d3-a110-a831f63ed615",
   "metadata": {},
   "outputs": [],
   "source": []
  },
  {
   "cell_type": "code",
   "execution_count": null,
   "id": "365f3652-2934-4f24-9439-d7cd3c0f57d8",
   "metadata": {},
   "outputs": [],
   "source": []
  }
 ],
 "metadata": {
  "kernelspec": {
   "display_name": "Python 3",
   "language": "python",
   "name": "python3"
  },
  "language_info": {
   "codemirror_mode": {
    "name": "ipython",
    "version": 3
   },
   "file_extension": ".py",
   "mimetype": "text/x-python",
   "name": "python",
   "nbconvert_exporter": "python",
   "pygments_lexer": "ipython3",
   "version": "3.8.8"
  }
 },
 "nbformat": 4,
 "nbformat_minor": 5
}
