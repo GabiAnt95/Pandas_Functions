{
 "cells": [
  {
   "cell_type": "markdown",
   "id": "bcf2ba9f-f704-47a4-824a-31025c85dde5",
   "metadata": {},
   "source": [
    "# Requirements"
   ]
  },
  {
   "cell_type": "code",
   "execution_count": 16,
   "id": "fc7ab366-15d4-4cbe-af3e-eb9f904c3a94",
   "metadata": {},
   "outputs": [],
   "source": [
    "import pandas as pd\n",
    "import os\n",
    "import collections\n",
    "import openpyxl\n"
   ]
  },
  {
   "cell_type": "code",
   "execution_count": 15,
   "id": "a125d96c-b41c-4aea-b1e2-8de3b94a5b63",
   "metadata": {},
   "outputs": [],
   "source": [
    "# Special Requirements for openpyxl\n",
    "\n",
    "try:\n",
    "        from openpyxl.cell import get_column_letter\n",
    "except ImportError:\n",
    "        from openpyxl.utils import get_column_letter\n",
    "        from openpyxl.utils import column_index_from_string\n",
    "from openpyxl import load_workbook\n",
    "import openpyxl\n",
    "from openpyxl import Workbook"
   ]
  },
  {
   "cell_type": "markdown",
   "id": "71717f6d-37c8-487a-81ba-e60ec07b064c",
   "metadata": {},
   "source": [
    "# Functions built to filter DataFrames in diferent ways:"
   ]
  },
  {
   "cell_type": "code",
   "execution_count": 6,
   "id": "c39cf053-be08-4d26-baa9-d2a91bbe01cb",
   "metadata": {},
   "outputs": [],
   "source": [
    "def filtrar_df_lista(df, str_columna, lista):\n",
    "    \n",
    "    '''\n",
    "    INPUTS: \n",
    "    \n",
    "    df : DataFrame to be filtered\n",
    "    str_columna : column is going to be filtered\n",
    "    lista : list elements to filter with (exactly equals to)\n",
    "    \n",
    "    OUTPUT:\n",
    "    \n",
    "    df filtered and reindexed\n",
    "    \n",
    "    '''\n",
    "    \n",
    "    new_df = pd.DataFrame()\n",
    "\n",
    "    new_df = new_df.append([df[df[str_columna] == e] for e in lista])\n",
    "\n",
    "    return new_df.reset_index(drop = True)\n",
    "    "
   ]
  },
  {
   "cell_type": "code",
   "execution_count": 7,
   "id": "ee4bd2b2-142f-4829-bc8c-4d380cea74ba",
   "metadata": {},
   "outputs": [],
   "source": [
    "def col_contains_str(df, col, string):\n",
    "    '''\n",
    "    INPUTS: \n",
    "    \n",
    "    df : DataFrame to be filtered\n",
    "    col : column is going to be filtered\n",
    "    string: if value comtains this string, it will appear in the result\n",
    "    \n",
    "    OUTPUT:\n",
    "    \n",
    "    DataFrame filtered and reindexed\n",
    "    \n",
    "    '''\n",
    "    \n",
    "    df = df.dropna(subset = [col])\n",
    "    return df[df[col].isin([e for e in df[col] if string.lower() in e.lower()])].reset_index(drop = True)\n",
    "\n",
    "def col_contains_any_str_list(df, col, list_str):\n",
    "    '''\n",
    "    INPUTS: \n",
    "    \n",
    "    df : DataFrame to be filtered\n",
    "    col : column is going to be filtered\n",
    "    list_str : if the value contains some of the string in this list, it will appear in the result\n",
    "    \n",
    "    OUTPUT:\n",
    "    \n",
    "    DataFrame filtered and reindexed\n",
    "    \n",
    "    '''\n",
    "    df = df.dropna(subset = [col])\n",
    "    return df[df[col].isin([e for e in df[col] if any(i.lower() in e.lower() for i in list_str)])].reset_index(drop =  True)\n",
    "            "
   ]
  },
  {
   "cell_type": "markdown",
   "id": "21d15547-f62a-4cc3-8ea2-4225dbc05f49",
   "metadata": {},
   "source": [
    "# Functions built in order to export DataFrames to Excel"
   ]
  },
  {
   "cell_type": "code",
   "execution_count": 9,
   "id": "5dda23aa-d71f-4af0-92af-3e21e1f602e2",
   "metadata": {},
   "outputs": [],
   "source": [
    " \n",
    "def adjust_columns_width(sheet):\n",
    "    \n",
    "    \"\"\"\n",
    "    For a given Excel-sheet, adjust the width of the columns depending on its own length\n",
    "    \n",
    "    \"\"\"\n",
    "    \n",
    "    for column_cells in sheet.columns:\n",
    "        new_column_length = max(len(str(cell.value)) for cell in column_cells)\n",
    "        new_column_letter = (get_column_letter(column_cells[0].column))\n",
    "        if new_column_length > 0:\n",
    "            sheet.column_dimensions[new_column_letter].width = new_column_length*1.23\n",
    "            \n",
    "    sheet.sheet_view.zoomScale = 60\n",
    "    \n",
    "    \n",
    "\n",
    "\n"
   ]
  },
  {
   "cell_type": "markdown",
   "id": "4c2ca0e7-da06-4fa4-9557-501008c53ad3",
   "metadata": {},
   "source": [
    "# Functions built to work with bad-structured DataFrames as a generic way"
   ]
  },
  {
   "cell_type": "code",
   "execution_count": 10,
   "id": "34205b0f-e4ec-4088-973c-c7b323ce6ad0",
   "metadata": {},
   "outputs": [],
   "source": [
    "def diferenciar_columnas_iguales(columns):\n",
    "\n",
    "    '''\n",
    "    \n",
    "    For a given DataFrame Columns with columns with the same name (for example when you import data from an Excel), a new Columns will be got adding '_n' to each col, being n a counter\n",
    "    Example: [Codigo, valor, valor, valor, valor_final, valor_final] --> [Codigo, valor_0, valor_1, valor_2, valor_final_0, valor_final_1]\n",
    "    \n",
    "    INPUT: List with the columns of the DataFrame\n",
    "    OUTPUT: List of the columns with a counter at the end\n",
    "    \n",
    "    '''\n",
    "    \n",
    "    import collections\n",
    "    \n",
    "    cols_repetidas = [k for k, v in dict(collections.Counter(columns)).items() if v > 1]\n",
    "\n",
    "    for c_r in cols_repetidas:\n",
    "        cont = 0\n",
    "        for c in range(len(columns)):\n",
    "            if columns[c] == c_r:\n",
    "                columns[c] = columns[c] + '_' + str(cont)\n",
    "                cont += 1\n",
    "\n",
    "    return columns\n"
   ]
  },
  {
   "cell_type": "markdown",
   "id": "c5c2c31a-ddb1-4749-833c-664d3698df42",
   "metadata": {},
   "source": [
    "# Functions built with the goal of execute automatically some manual tasks"
   ]
  },
  {
   "cell_type": "code",
   "execution_count": 13,
   "id": "ebb891fc-75df-4499-9d9c-47af16df3a00",
   "metadata": {},
   "outputs": [],
   "source": [
    "def split_col_by_unique_values(df, column, name_output_directory):\n",
    "    \n",
    "        \n",
    "    '''\n",
    "    \n",
    "    For a given DataFrame and Column, the output is in a folder, the same DataFrame splited in diferent Excels Files (One for each unique Value)\n",
    "    The task in Excel would be: 1) Having a column with 8 diferent values\n",
    "                                2) Filter by the first value, copy, paste and save\n",
    "                                3) Same for the remaining values\n",
    "                                4) the result are 8 Excels\n",
    "    \n",
    "    INPUTS: \n",
    "    \n",
    "    df : DataFrame to split\n",
    "    column : col to be split\n",
    "    name_output_directory : name of the folder where the splitted Excels will be located (If not exists, it is created below this script)\n",
    "    \n",
    "    OUTPUT:\n",
    "    \n",
    "    Splitted Excels\n",
    "    \n",
    "    '''\n",
    "    import pandas as pd\n",
    "    import os \n",
    "    \n",
    "    try:\n",
    "        os.mkdir(str(name_output_directory))\n",
    "    except:\n",
    "        1\n",
    "    \n",
    "    df[column] = df[column].fillna('EMPTY')\n",
    "    \n",
    "    for value in [e.replace(' ', '_') for e in df[column].unique()]:\n",
    "\n",
    "        locals()[value] = df[(df[column] == value.replace('_', ' '))]\n",
    "        \n",
    "        try:     \n",
    "            locals()[value].to_excel(name_output_directory + '/' + str(value) + '.xlsx', index = False)\n",
    "        except:  \n",
    "            continue\n",
    "            \n",
    "            "
   ]
  }
 ],
 "metadata": {
  "kernelspec": {
   "display_name": "Python 3",
   "language": "python",
   "name": "python3"
  },
  "language_info": {
   "codemirror_mode": {
    "name": "ipython",
    "version": 3
   },
   "file_extension": ".py",
   "mimetype": "text/x-python",
   "name": "python",
   "nbconvert_exporter": "python",
   "pygments_lexer": "ipython3",
   "version": "3.8.8"
  }
 },
 "nbformat": 4,
 "nbformat_minor": 5
}
